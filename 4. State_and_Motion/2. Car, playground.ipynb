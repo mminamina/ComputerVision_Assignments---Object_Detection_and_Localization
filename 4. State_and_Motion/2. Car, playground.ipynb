{
 "cells": [
  {
   "cell_type": "markdown",
   "metadata": {},
   "source": [
    "# Car playground 1\n",
    "\n",
    "This notebook provides some initial variables and creates one car object, but, here, you are encouraged to play around with the car movement code!\n",
    "\n",
    "This playground is especially useful if you **modify the car.py file** and want to test out some new car property or function!\n",
    "\n",
    "So, your only tasks for this notebook are to use it as your own personal testing ground. Some ideas:\n",
    "1. Create multiple cars, with different initial states\n",
    "    - And visualize them using `display_world()`\n",
    "2. Add a function in car.py (by navigating back to it clicking the orange Jupyter icon), and then call that function, here!\n",
    "3. Add a new initial variable to __init__ in car.py and use it!"
   ]
  },
  {
   "cell_type": "code",
   "execution_count": 1,
   "metadata": {},
   "outputs": [],
   "source": [
    "import numpy as np\n",
    "import car\n",
    "\n",
    "%matplotlib inline\n",
    "\n",
    "# Auto-reload function so that this notebook keeps up with \n",
    "# changes in the class file \n",
    "%load_ext autoreload\n",
    "%autoreload 2"
   ]
  },
  {
   "cell_type": "markdown",
   "metadata": {},
   "source": [
    "### Create a new car object"
   ]
  },
  {
   "cell_type": "code",
   "execution_count": 2,
   "metadata": {
    "scrolled": true
   },
   "outputs": [
    {
     "data": {
      "image/png": "[encoded data removed]",
      "text/plain": [
       "<Figure size 432x288 with 1 Axes>"
      ]
     },
     "metadata": {
      "needs_background": "light"
     },
     "output_type": "display_data"
    }
   ],
   "source": [
    "# Create a 2D world of 0's\n",
    "height = 4\n",
    "width = 6\n",
    "world = np.zeros((height, width))\n",
    "\n",
    "# Define the initial car state\n",
    "initial_position = [0, 0] # [y, x] (top-left corner)\n",
    "velocity = [0, 1] # [vy, vx] (moving to the right)\n",
    "\n",
    "# Create a car with initial params\n",
    "carla = car.Car(initial_position, velocity, world)\n",
    "carla.display_world()"
   ]
  },
  {
   "cell_type": "code",
   "execution_count": 3,
   "metadata": {},
   "outputs": [],
   "source": [
    "## TODO: Create multiple cars and visualize them\n",
    "velocity2 = [1, 0]\n",
    "position2 = [2, 2]\n",
    "mika = car.Car(position2, velocity2, world, 'y')"
   ]
  },
  {
   "cell_type": "code",
   "execution_count": 4,
   "metadata": {},
   "outputs": [
    {
     "data": {
      "image/png": "[encoded data removed]",
      "text/plain": [
       "<Figure size 432x288 with 1 Axes>"
      ]
     },
     "metadata": {
      "needs_background": "light"
     },
     "output_type": "display_data"
    }
   ],
   "source": [
    "carla.move()\n",
    "carla.move()\n",
    "carla.move()\n",
    "carla.turn_left()\n",
    "carla.move()\n",
    "carla.display_world()"
   ]
  },
  {
   "cell_type": "code",
   "execution_count": 5,
   "metadata": {},
   "outputs": [
    {
     "name": "stdout",
     "output_type": "stream",
     "text": [
      "Carla\"s state:  [[3, 3], [-1, 0]]\n"
     ]
    }
   ],
   "source": [
    "print('Carla\"s state: ',str(carla.state))"
   ]
  },
  {
   "cell_type": "code",
   "execution_count": 6,
   "metadata": {},
   "outputs": [
    {
     "data": {
      "image/png": "[encoded data removed]",
      "text/plain": [
       "<Figure size 432x288 with 1 Axes>"
      ]
     },
     "metadata": {
      "needs_background": "light"
     },
     "output_type": "display_data"
    }
   ],
   "source": [
    "mika.move()\n",
    "mika.move()\n",
    "mika.move()\n",
    "mika.turn_left()\n",
    "mika.move()\n",
    "mika.display_world()"
   ]
  },
  {
   "cell_type": "code",
   "execution_count": 7,
   "metadata": {},
   "outputs": [
    {
     "name": "stdout",
     "output_type": "stream",
     "text": [
      "Mika\"s state:  [[1, 3], [0, 1]]\n"
     ]
    }
   ],
   "source": [
    "print('Mika\"s state: ',str(mika.state))"
   ]
  },
  {
   "cell_type": "code",
   "execution_count": 8,
   "metadata": {},
   "outputs": [
    {
     "data": {
      "image/png": "[encoded data removed]",
      "text/plain": [
       "<Figure size 432x288 with 1 Axes>"
      ]
     },
     "metadata": {
      "needs_background": "light"
     },
     "output_type": "display_data"
    }
   ],
   "source": [
    "mika.move()\n",
    "mika.turn_left()\n",
    "mika.move()\n",
    "mika.move()\n",
    "mika.turn_left()\n",
    "mika.move()\n",
    "mika.display_world()"
   ]
  },
  {
   "cell_type": "code",
   "execution_count": 9,
   "metadata": {},
   "outputs": [
    {
     "name": "stdout",
     "output_type": "stream",
     "text": [
      "Mika\"s state:  [[3, 3], [0, -1]]\n"
     ]
    }
   ],
   "source": [
    "print('Mika\"s state: ',str(mika.state))"
   ]
  },
  {
   "cell_type": "code",
   "execution_count": null,
   "metadata": {},
   "outputs": [],
   "source": []
  },
  {
   "cell_type": "code",
   "execution_count": null,
   "metadata": {},
   "outputs": [],
   "source": []
  }
 ],
 "metadata": {
  "anaconda-cloud": {},
  "kernelspec": {
   "display_name": "Python 3",
   "language": "python",
   "name": "python3"
  },
  "language_info": {
   "codemirror_mode": {
    "name": "ipython",
    "version": 3
   },
   "file_extension": ".py",
   "mimetype": "text/x-python",
   "name": "python",
   "nbconvert_exporter": "python",
   "pygments_lexer": "ipython3",
   "version": "3.7.4"
  }
 },
 "nbformat": 4,
 "nbformat_minor": 1
}
